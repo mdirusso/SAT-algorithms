{
 "cells": [
  {
   "cell_type": "code",
   "execution_count": 1,
   "metadata": {},
   "outputs": [],
   "source": [
    "from sympy.logic.boolalg import *\n",
    "from sympy.abc import A, B, C, D, E, F, G\n",
    "from sympy.logic.inference import pl_true\n"
   ]
  },
  {
   "cell_type": "code",
   "execution_count": 2,
   "metadata": {},
   "outputs": [],
   "source": [
    "def sat_backtracking(cnf, assignment, variables) :\n",
    "    \n",
    "    # if (β assigns all variables of ϕ) return ϕ(β);\n",
    "    if ((len(assignment) == len(variables)) & (pl_true(cnf, assignment) == True)) :\n",
    "        return pl_true(cnf, assignment)\n",
    "    \n",
    "    # else if (β makes one clause of ϕ false) return 0;    //dead branch\n",
    "    else :\n",
    "        if (pl_true(cnf, assignment) == False) :\n",
    "            return False;\n",
    "    \n",
    "    # else if (BACKTRACKING-SAT(ϕ, β0)) return 1;\n",
    "        else :\n",
    "            var = variables[len(assignment)]\n",
    "            assignment[var] = 0\n",
    "            if (sat_backtracking(cnf, assignment, variables)) :\n",
    "                return True\n",
    "            \n",
    "            # else return BACKTRACKING-SAT(ϕ, β1))\n",
    "            else : \n",
    "                assignment[var] = 1\n",
    "                return sat_backtracking(cnf, assignment, variables)"
   ]
  },
  {
   "cell_type": "markdown",
   "metadata": {},
   "source": [
    "# First Example"
   ]
  },
  {
   "cell_type": "code",
   "execution_count": 3,
   "metadata": {},
   "outputs": [
    {
     "data": {
      "text/latex": [
       "$\\displaystyle \\left(A \\vee B \\vee \\neg C\\right) \\wedge \\left(C \\vee D \\vee E\\right)$"
      ],
      "text/plain": [
       "(C | D | E) & (A | B | ~C)"
      ]
     },
     "execution_count": 3,
     "metadata": {},
     "output_type": "execute_result"
    }
   ],
   "source": [
    "CNF1 = to_cnf((A | B | ~C) & (C | D | E))\n",
    "CNF1_variables = [A, B, C, D, E]\n",
    "assign = {}\n",
    "CNF1"
   ]
  },
  {
   "cell_type": "code",
   "execution_count": 4,
   "metadata": {},
   "outputs": [
    {
     "data": {
      "text/plain": [
       "True"
      ]
     },
     "execution_count": 4,
     "metadata": {},
     "output_type": "execute_result"
    }
   ],
   "source": [
    "sat_backtracking(CNF1, assign, CNF1_variables)"
   ]
  },
  {
   "cell_type": "markdown",
   "metadata": {},
   "source": [
    "# Second Example"
   ]
  },
  {
   "cell_type": "code",
   "execution_count": 5,
   "metadata": {},
   "outputs": [
    {
     "data": {
      "text/latex": [
       "$\\displaystyle \\left(A \\vee C \\vee \\neg B\\right) \\wedge \\left(A \\vee F \\vee G\\right) \\wedge \\left(B \\vee C \\vee D\\right) \\wedge \\left(C \\vee D \\vee E\\right)$"
      ],
      "text/plain": [
       "(A | F | G) & (B | C | D) & (C | D | E) & (A | C | ~B)"
      ]
     },
     "execution_count": 5,
     "metadata": {},
     "output_type": "execute_result"
    }
   ],
   "source": [
    "CNF2 = to_cnf((A | ~B | C) & (C | D | E) & (A | F | G) & (C | D | B))\n",
    "CNF2_variables = [A, B, C, D, E, F, G]\n",
    "assign = {}\n",
    "CNF2"
   ]
  },
  {
   "cell_type": "code",
   "execution_count": 6,
   "metadata": {},
   "outputs": [
    {
     "data": {
      "text/plain": [
       "True"
      ]
     },
     "execution_count": 6,
     "metadata": {},
     "output_type": "execute_result"
    }
   ],
   "source": [
    "sat_backtracking(CNF2, assign, CNF2_variables)"
   ]
  },
  {
   "cell_type": "markdown",
   "metadata": {},
   "source": [
    "# Always False"
   ]
  },
  {
   "cell_type": "code",
   "execution_count": 7,
   "metadata": {},
   "outputs": [],
   "source": [
    "ALW_FALSE = to_cnf((A | B | C) & (~A | B | C) & (A | ~B | C) & (A | B | ~C) & (~A | ~B | C) & (~A | B | ~C) & (A | ~B | ~C) & (~A | ~B | ~C))"
   ]
  },
  {
   "cell_type": "code",
   "execution_count": 8,
   "metadata": {},
   "outputs": [],
   "source": [
    "ALW_FALSE_variables = [A, B, C]\n",
    "assign = {}"
   ]
  },
  {
   "cell_type": "code",
   "execution_count": 9,
   "metadata": {},
   "outputs": [
    {
     "data": {
      "text/plain": [
       "False"
      ]
     },
     "execution_count": 9,
     "metadata": {},
     "output_type": "execute_result"
    }
   ],
   "source": [
    "sat_backtracking(ALW_FALSE, assign, ALW_FALSE_variables)"
   ]
  },
  {
   "cell_type": "markdown",
   "metadata": {},
   "source": [
    "# Whiteboard Example"
   ]
  },
  {
   "cell_type": "code",
   "execution_count": null,
   "metadata": {},
   "outputs": [],
   "source": [
    "CNFl = to_cnf((A | B | C))\n",
    "CNFl_variables = [A, B, C]\n",
    "assign = {}"
   ]
  },
  {
   "cell_type": "code",
   "execution_count": null,
   "metadata": {},
   "outputs": [],
   "source": [
    "sat_backtracking(CNFl, assign, CNFl_variables)"
   ]
  },
  {
   "cell_type": "code",
   "execution_count": null,
   "metadata": {},
   "outputs": [],
   "source": []
  },
  {
   "cell_type": "code",
   "execution_count": null,
   "metadata": {},
   "outputs": [],
   "source": []
  },
  {
   "cell_type": "code",
   "execution_count": null,
   "metadata": {},
   "outputs": [],
   "source": []
  },
  {
   "cell_type": "code",
   "execution_count": null,
   "metadata": {},
   "outputs": [],
   "source": []
  },
  {
   "cell_type": "code",
   "execution_count": null,
   "metadata": {},
   "outputs": [],
   "source": []
  }
 ],
 "metadata": {
  "kernelspec": {
   "display_name": "Python 3",
   "language": "python",
   "name": "python3"
  },
  "language_info": {
   "codemirror_mode": {
    "name": "ipython",
    "version": 3
   },
   "file_extension": ".py",
   "mimetype": "text/x-python",
   "name": "python",
   "nbconvert_exporter": "python",
   "pygments_lexer": "ipython3",
   "version": "3.7.1"
  }
 },
 "nbformat": 4,
 "nbformat_minor": 2
}
